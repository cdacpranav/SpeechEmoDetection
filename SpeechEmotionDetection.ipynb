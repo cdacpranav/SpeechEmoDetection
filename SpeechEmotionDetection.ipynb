{
 "cells": [
  {
   "cell_type": "markdown",
   "metadata": {
    "id": "fFRW7n15OLn_"
   },
   "source": [
    "## Import required libraries"
   ]
  },
  {
   "cell_type": "code",
   "execution_count": 6,
   "metadata": {},
   "outputs": [],
   "source": [
    "#!pip install numpy pandas tqdm seaborn matplotlib scikit-learn tensorflow "
   ]
  },
  {
   "cell_type": "code",
   "execution_count": 5,
   "metadata": {
    "executionInfo": {
     "elapsed": 7246,
     "status": "ok",
     "timestamp": 1738672167475,
     "user": {
      "displayName": "Ravdess Project",
      "userId": "13244186317433507462"
     },
     "user_tz": -330
    },
    "id": "AKVr1nnUr1ou"
   },
   "outputs": [],
   "source": [
    "import os\n",
    "import librosa\n",
    "import random\n",
    "import numpy as np\n",
    "import pandas as pd\n",
    "from tqdm import tqdm\n",
    "import librosa\n",
    "import librosa.display\n",
    "# Visualization\n",
    "import seaborn as sns\n",
    "import matplotlib.pyplot as plt\n",
    "from sklearn.metrics import confusion_matrix\n",
    "# Preprocessing\n",
    "from sklearn.model_selection import train_test_split\n",
    "from sklearn.preprocessing import LabelEncoder, StandardScaler\n",
    "# Model Traing\n",
    "from tensorflow.keras.models import Sequential\n",
    "from tensorflow.keras.layers import Dense, Dropout, Conv1D, MaxPooling1D, Flatten\n",
    "# Model Evaluation\n",
    "from sklearn.metrics import confusion_matrix\n",
    "from tensorflow.keras import models as tf_models\n",
    "from sklearn.metrics import classification_report"
   ]
  },
  {
   "cell_type": "markdown",
   "metadata": {
    "id": "-7T2qVlGOExV"
   },
   "source": [
    "## Mounting Dataset from Google Drive"
   ]
  },
  {
   "cell_type": "code",
   "execution_count": 7,
   "metadata": {
    "colab": {
     "base_uri": "https://localhost:8080/"
    },
    "executionInfo": {
     "elapsed": 27768,
     "status": "ok",
     "timestamp": 1738672195237,
     "user": {
      "displayName": "Ravdess Project",
      "userId": "13244186317433507462"
     },
     "user_tz": -330
    },
    "id": "-7ryJj_W7b_i",
    "outputId": "368a52dd-78c2-4174-c2c7-62b90d72da61"
   },
   "outputs": [],
   "source": [
    "dataset_root = r\"C:\\Users\\EL-Dorado\\Downloads\\@Codexecution\\RAVDESS\"\n",
    "dataset_subfolders = [\"Audio_Song_Actors_01-24\", \"Audio_Speech_Actors_01-24\"]"
   ]
  },
  {
   "cell_type": "code",
   "execution_count": 8,
   "metadata": {
    "executionInfo": {
     "elapsed": 9,
     "status": "ok",
     "timestamp": 1738672195237,
     "user": {
      "displayName": "Ravdess Project",
      "userId": "13244186317433507462"
     },
     "user_tz": -330
    },
    "id": "zeqKDsHx7b9N"
   },
   "outputs": [],
   "source": [
    "# Define emotions based on RAVDESS dataset encoding\n",
    "emotion_map = {'01': 'neutral', '02': 'calm', '03': 'happy', '04': 'sad',\n",
    "               '05': 'angry', '06': 'fearful', '07': 'disgust', '08': 'surprised'}"
   ]
  },
  {
   "cell_type": "code",
   "execution_count": 9,
   "metadata": {
    "executionInfo": {
     "elapsed": 9,
     "status": "ok",
     "timestamp": 1738672195238,
     "user": {
      "displayName": "Ravdess Project",
      "userId": "13244186317433507462"
     },
     "user_tz": -330
    },
    "id": "Tu9TX7ECFfO0"
   },
   "outputs": [],
   "source": [
    "# Ensuring dataset_features directory exists\n",
    "output_dir = r\"C:\\Users\\EL-Dorado\\Downloads\\Compressed\\SpeechEmotionDetection\\dataset_features\"\n",
    "os.makedirs(output_dir, exist_ok=True)"
   ]
  },
  {
   "cell_type": "markdown",
   "metadata": {
    "id": "48aQZntqOTQj"
   },
   "source": [
    "## Feature Extraction"
   ]
  },
  {
   "cell_type": "code",
   "execution_count": 10,
   "metadata": {
    "executionInfo": {
     "elapsed": 8,
     "status": "ok",
     "timestamp": 1738672195238,
     "user": {
      "displayName": "Ravdess Project",
      "userId": "13244186317433507462"
     },
     "user_tz": -330
    },
    "id": "tElLbWza7b6n"
   },
   "outputs": [],
   "source": [
    "# Function to extract features from an audio file\n",
    "def extract_features(file_path):\n",
    "    y, sr = librosa.load(file_path, sr=None)\n",
    "\n",
    "    # Extract MFCCs\n",
    "    mfccs = np.mean(librosa.feature.mfcc(y=y, sr=sr, n_mfcc=40).T, axis=0)\n",
    "\n",
    "    # Extract Chroma\n",
    "    chroma = np.mean(librosa.feature.chroma_stft(y=y, sr=sr).T, axis=0)\n",
    "\n",
    "    # Extract Mel Spectrogram\n",
    "    mel = np.mean(librosa.feature.melspectrogram(y=y, sr=sr).T, axis=0)\n",
    "\n",
    "    return np.hstack([mfccs, chroma, mel])"
   ]
  },
  {
   "cell_type": "markdown",
   "metadata": {
    "id": "T2k87-G2OhGq"
   },
   "source": [
    "## Dataset Processing"
   ]
  },
  {
   "cell_type": "code",
   "execution_count": 11,
   "metadata": {
    "executionInfo": {
     "elapsed": 8,
     "status": "ok",
     "timestamp": 1738672195238,
     "user": {
      "displayName": "Ravdess Project",
      "userId": "13244186317433507462"
     },
     "user_tz": -330
    },
    "id": "DVXjmbkx7by1"
   },
   "outputs": [],
   "source": [
    "# Function to process a dataset folder\n",
    "def process_dataset(dataset_path, category, data):\n",
    "    all_files = []\n",
    "    for actor_folder in os.listdir(dataset_path):\n",
    "        actor_path = os.path.join(dataset_path, actor_folder)\n",
    "        if not os.path.isdir(actor_path):\n",
    "            continue\n",
    "\n",
    "        for file_name in os.listdir(actor_path):\n",
    "            file_path = os.path.join(actor_path, file_name)\n",
    "            all_files.append((file_path, file_name))\n",
    "\n",
    "    print(f\"Processing {category}: {len(all_files)} files\")\n",
    "    for file_path, file_name in tqdm(all_files, desc=f\"{category}\"):\n",
    "        try:\n",
    "            features = extract_features(file_path)\n",
    "            emotion_code = file_name.split(\"-\")[2]\n",
    "            emotion = emotion_map.get(emotion_code, \"unknown\")\n",
    "            data.append([file_path, category, emotion] + features.tolist())\n",
    "        except Exception as e:\n",
    "            print(f\"Error processing {file_name}: {e}\")"
   ]
  },
  {
   "cell_type": "code",
   "execution_count": 12,
   "metadata": {
    "colab": {
     "background_save": true,
     "base_uri": "https://localhost:8080/"
    },
    "id": "lcRku7yT7bwQ",
    "outputId": "50cb8d00-67c6-4212-de26-0c4a9821bc2c"
   },
   "outputs": [
    {
     "name": "stdout",
     "output_type": "stream",
     "text": [
      "Processing Audio_Song_Actors_01-24: 1012 files\n"
     ]
    },
    {
     "name": "stderr",
     "output_type": "stream",
     "text": [
      "Audio_Song_Actors_01-24: 100%|██████████| 1012/1012 [01:20<00:00, 12.61it/s]\n"
     ]
    },
    {
     "name": "stdout",
     "output_type": "stream",
     "text": [
      "Processing Audio_Speech_Actors_01-24: 1440 files\n"
     ]
    },
    {
     "name": "stderr",
     "output_type": "stream",
     "text": [
      "Audio_Speech_Actors_01-24: 100%|██████████| 1440/1440 [01:05<00:00, 22.04it/s]\n"
     ]
    },
    {
     "name": "stdout",
     "output_type": "stream",
     "text": [
      "Feature extraction completed! Data saved to dataset_features/audio_features.csv\n"
     ]
    }
   ],
   "source": [
    "data = []\n",
    "\n",
    "for subfolder in dataset_subfolders:\n",
    "    process_dataset(os.path.join(dataset_root, subfolder), subfolder, data)\n",
    "\n",
    "if data:\n",
    "    columns = [\"file_path\", \"category\", \"emotion\"] + [f\"feature_{i}\" for i in range(len(data[0]) - 3)]\n",
    "    df = pd.DataFrame(data, columns=columns)\n",
    "\n",
    "    #Converting Dataframe to csv\n",
    "    df.to_csv(os.path.join(output_dir, \"audio_features.csv\"), index=False)\n",
    "    print(\"Feature extraction completed! Data saved to dataset_features/audio_features.csv\")\n",
    "else:\n",
    "    print(\"No valid audio files found for feature extraction.\")\n"
   ]
  },
  {
   "cell_type": "code",
   "execution_count": 14,
   "metadata": {
    "id": "Z-dp1Nbv7bt9"
   },
   "outputs": [
    {
     "data": {
      "text/html": [
       "<div>\n",
       "<style scoped>\n",
       "    .dataframe tbody tr th:only-of-type {\n",
       "        vertical-align: middle;\n",
       "    }\n",
       "\n",
       "    .dataframe tbody tr th {\n",
       "        vertical-align: top;\n",
       "    }\n",
       "\n",
       "    .dataframe thead th {\n",
       "        text-align: right;\n",
       "    }\n",
       "</style>\n",
       "<table border=\"1\" class=\"dataframe\">\n",
       "  <thead>\n",
       "    <tr style=\"text-align: right;\">\n",
       "      <th></th>\n",
       "      <th>file_path</th>\n",
       "      <th>category</th>\n",
       "      <th>emotion</th>\n",
       "      <th>feature_0</th>\n",
       "      <th>feature_1</th>\n",
       "      <th>feature_2</th>\n",
       "      <th>feature_3</th>\n",
       "      <th>feature_4</th>\n",
       "      <th>feature_5</th>\n",
       "      <th>feature_6</th>\n",
       "      <th>...</th>\n",
       "      <th>feature_170</th>\n",
       "      <th>feature_171</th>\n",
       "      <th>feature_172</th>\n",
       "      <th>feature_173</th>\n",
       "      <th>feature_174</th>\n",
       "      <th>feature_175</th>\n",
       "      <th>feature_176</th>\n",
       "      <th>feature_177</th>\n",
       "      <th>feature_178</th>\n",
       "      <th>feature_179</th>\n",
       "    </tr>\n",
       "  </thead>\n",
       "  <tbody>\n",
       "    <tr>\n",
       "      <th>0</th>\n",
       "      <td>C:\\Users\\EL-Dorado\\Downloads\\@Codexecution\\RAV...</td>\n",
       "      <td>Audio_Song_Actors_01-24</td>\n",
       "      <td>neutral</td>\n",
       "      <td>-625.106262</td>\n",
       "      <td>86.008797</td>\n",
       "      <td>-14.908678</td>\n",
       "      <td>11.612943</td>\n",
       "      <td>0.951541</td>\n",
       "      <td>9.499438</td>\n",
       "      <td>-8.360124</td>\n",
       "      <td>...</td>\n",
       "      <td>2.505913e-07</td>\n",
       "      <td>1.389767e-07</td>\n",
       "      <td>6.259342e-08</td>\n",
       "      <td>5.209959e-08</td>\n",
       "      <td>4.448409e-08</td>\n",
       "      <td>3.402783e-08</td>\n",
       "      <td>2.266297e-08</td>\n",
       "      <td>1.658761e-08</td>\n",
       "      <td>6.281665e-09</td>\n",
       "      <td>5.645767e-09</td>\n",
       "    </tr>\n",
       "    <tr>\n",
       "      <th>1</th>\n",
       "      <td>C:\\Users\\EL-Dorado\\Downloads\\@Codexecution\\RAV...</td>\n",
       "      <td>Audio_Song_Actors_01-24</td>\n",
       "      <td>neutral</td>\n",
       "      <td>-599.416138</td>\n",
       "      <td>84.052719</td>\n",
       "      <td>-15.714042</td>\n",
       "      <td>11.429276</td>\n",
       "      <td>0.850099</td>\n",
       "      <td>9.990978</td>\n",
       "      <td>-9.621907</td>\n",
       "      <td>...</td>\n",
       "      <td>2.661246e-07</td>\n",
       "      <td>1.324255e-07</td>\n",
       "      <td>8.535215e-08</td>\n",
       "      <td>4.553799e-08</td>\n",
       "      <td>3.747565e-08</td>\n",
       "      <td>3.051230e-08</td>\n",
       "      <td>2.682382e-08</td>\n",
       "      <td>1.575488e-08</td>\n",
       "      <td>1.110359e-08</td>\n",
       "      <td>1.266679e-08</td>\n",
       "    </tr>\n",
       "    <tr>\n",
       "      <th>2</th>\n",
       "      <td>C:\\Users\\EL-Dorado\\Downloads\\@Codexecution\\RAV...</td>\n",
       "      <td>Audio_Song_Actors_01-24</td>\n",
       "      <td>neutral</td>\n",
       "      <td>-612.903076</td>\n",
       "      <td>82.196556</td>\n",
       "      <td>-13.120657</td>\n",
       "      <td>14.789132</td>\n",
       "      <td>3.518427</td>\n",
       "      <td>7.586631</td>\n",
       "      <td>-6.735970</td>\n",
       "      <td>...</td>\n",
       "      <td>5.152927e-07</td>\n",
       "      <td>3.613940e-07</td>\n",
       "      <td>2.791932e-07</td>\n",
       "      <td>1.897854e-07</td>\n",
       "      <td>1.196744e-07</td>\n",
       "      <td>6.863468e-08</td>\n",
       "      <td>6.189727e-08</td>\n",
       "      <td>3.520140e-08</td>\n",
       "      <td>1.177894e-08</td>\n",
       "      <td>6.167234e-09</td>\n",
       "    </tr>\n",
       "    <tr>\n",
       "      <th>3</th>\n",
       "      <td>C:\\Users\\EL-Dorado\\Downloads\\@Codexecution\\RAV...</td>\n",
       "      <td>Audio_Song_Actors_01-24</td>\n",
       "      <td>neutral</td>\n",
       "      <td>-610.187866</td>\n",
       "      <td>83.249809</td>\n",
       "      <td>-15.969199</td>\n",
       "      <td>13.755888</td>\n",
       "      <td>1.984430</td>\n",
       "      <td>8.654107</td>\n",
       "      <td>-7.323662</td>\n",
       "      <td>...</td>\n",
       "      <td>1.089680e-06</td>\n",
       "      <td>5.147377e-07</td>\n",
       "      <td>2.775537e-07</td>\n",
       "      <td>1.649997e-07</td>\n",
       "      <td>1.496935e-07</td>\n",
       "      <td>1.194161e-07</td>\n",
       "      <td>7.391817e-08</td>\n",
       "      <td>5.389015e-08</td>\n",
       "      <td>3.181273e-08</td>\n",
       "      <td>8.312143e-09</td>\n",
       "    </tr>\n",
       "    <tr>\n",
       "      <th>4</th>\n",
       "      <td>C:\\Users\\EL-Dorado\\Downloads\\@Codexecution\\RAV...</td>\n",
       "      <td>Audio_Song_Actors_01-24</td>\n",
       "      <td>calm</td>\n",
       "      <td>-623.877075</td>\n",
       "      <td>90.996017</td>\n",
       "      <td>-11.470400</td>\n",
       "      <td>15.081040</td>\n",
       "      <td>2.816188</td>\n",
       "      <td>12.477466</td>\n",
       "      <td>-7.909572</td>\n",
       "      <td>...</td>\n",
       "      <td>3.682214e-07</td>\n",
       "      <td>1.503961e-07</td>\n",
       "      <td>1.092785e-07</td>\n",
       "      <td>1.119673e-07</td>\n",
       "      <td>6.592948e-08</td>\n",
       "      <td>3.464470e-08</td>\n",
       "      <td>2.697515e-08</td>\n",
       "      <td>1.966369e-08</td>\n",
       "      <td>1.597177e-08</td>\n",
       "      <td>6.825751e-09</td>\n",
       "    </tr>\n",
       "  </tbody>\n",
       "</table>\n",
       "<p>5 rows × 183 columns</p>\n",
       "</div>"
      ],
      "text/plain": [
       "                                           file_path                 category  \\\n",
       "0  C:\\Users\\EL-Dorado\\Downloads\\@Codexecution\\RAV...  Audio_Song_Actors_01-24   \n",
       "1  C:\\Users\\EL-Dorado\\Downloads\\@Codexecution\\RAV...  Audio_Song_Actors_01-24   \n",
       "2  C:\\Users\\EL-Dorado\\Downloads\\@Codexecution\\RAV...  Audio_Song_Actors_01-24   \n",
       "3  C:\\Users\\EL-Dorado\\Downloads\\@Codexecution\\RAV...  Audio_Song_Actors_01-24   \n",
       "4  C:\\Users\\EL-Dorado\\Downloads\\@Codexecution\\RAV...  Audio_Song_Actors_01-24   \n",
       "\n",
       "   emotion   feature_0  feature_1  feature_2  feature_3  feature_4  feature_5  \\\n",
       "0  neutral -625.106262  86.008797 -14.908678  11.612943   0.951541   9.499438   \n",
       "1  neutral -599.416138  84.052719 -15.714042  11.429276   0.850099   9.990978   \n",
       "2  neutral -612.903076  82.196556 -13.120657  14.789132   3.518427   7.586631   \n",
       "3  neutral -610.187866  83.249809 -15.969199  13.755888   1.984430   8.654107   \n",
       "4     calm -623.877075  90.996017 -11.470400  15.081040   2.816188  12.477466   \n",
       "\n",
       "   feature_6  ...   feature_170   feature_171   feature_172   feature_173  \\\n",
       "0  -8.360124  ...  2.505913e-07  1.389767e-07  6.259342e-08  5.209959e-08   \n",
       "1  -9.621907  ...  2.661246e-07  1.324255e-07  8.535215e-08  4.553799e-08   \n",
       "2  -6.735970  ...  5.152927e-07  3.613940e-07  2.791932e-07  1.897854e-07   \n",
       "3  -7.323662  ...  1.089680e-06  5.147377e-07  2.775537e-07  1.649997e-07   \n",
       "4  -7.909572  ...  3.682214e-07  1.503961e-07  1.092785e-07  1.119673e-07   \n",
       "\n",
       "    feature_174   feature_175   feature_176   feature_177   feature_178  \\\n",
       "0  4.448409e-08  3.402783e-08  2.266297e-08  1.658761e-08  6.281665e-09   \n",
       "1  3.747565e-08  3.051230e-08  2.682382e-08  1.575488e-08  1.110359e-08   \n",
       "2  1.196744e-07  6.863468e-08  6.189727e-08  3.520140e-08  1.177894e-08   \n",
       "3  1.496935e-07  1.194161e-07  7.391817e-08  5.389015e-08  3.181273e-08   \n",
       "4  6.592948e-08  3.464470e-08  2.697515e-08  1.966369e-08  1.597177e-08   \n",
       "\n",
       "    feature_179  \n",
       "0  5.645767e-09  \n",
       "1  1.266679e-08  \n",
       "2  6.167234e-09  \n",
       "3  8.312143e-09  \n",
       "4  6.825751e-09  \n",
       "\n",
       "[5 rows x 183 columns]"
      ]
     },
     "execution_count": 14,
     "metadata": {},
     "output_type": "execute_result"
    }
   ],
   "source": [
    "df = pd.read_csv(r\"C:\\Users\\EL-Dorado\\Downloads\\Compressed\\SpeechEmotionDetection\\dataset_features\\audio_features.csv\")\n",
    "df.head()"
   ]
  },
  {
   "cell_type": "markdown",
   "metadata": {
    "id": "iEMtHCohO6T_"
   },
   "source": [
    "## Plot the Sample Waveform and MFCC"
   ]
  },
  {
   "cell_type": "code",
   "execution_count": 15,
   "metadata": {
    "id": "q7UX4r65NOj8"
   },
   "outputs": [],
   "source": [
    "audio_file = random.choice(df['file_path'])"
   ]
  },
  {
   "cell_type": "code",
   "execution_count": 16,
   "metadata": {
    "id": "JDbeSKIt7brO"
   },
   "outputs": [],
   "source": [
    "# Load audio file\n",
    "y, sr = librosa.load(audio_file, sr=None)\n",
    "\n",
    "# Compute MFCCs\n",
    "mfccs = librosa.feature.mfcc(y=y, sr=sr, n_mfcc=40)"
   ]
  },
  {
   "cell_type": "code",
   "execution_count": 17,
   "metadata": {
    "id": "QmcpFc0q7ag8"
   },
   "outputs": [
    {
     "data": {
      "image/png": "[encoded data removed]",
      "text/plain": [
       "<Figure size 1000x600 with 3 Axes>"
      ]
     },
     "metadata": {},
     "output_type": "display_data"
    }
   ],
   "source": [
    "# Create a figure with subplots\n",
    "fig, ax = plt.subplots(nrows=2, figsize=(10, 6))\n",
    "\n",
    "# Plot waveform\n",
    "ax[0].set_title(f\"Waveform of {audio_file.split('/')[-1]}\")\n",
    "librosa.display.waveshow(y, sr=sr, ax=ax[0])\n",
    "ax[0].set_xlabel(\"Time\")\n",
    "ax[0].set_ylabel(\"Amplitude\")\n",
    "\n",
    "# Plot MFCC features\n",
    "img = librosa.display.specshow(mfccs, x_axis=\"time\", sr=sr, ax=ax[1], cmap=\"viridis\")\n",
    "ax[1].set_title(\"MFCC Features\")\n",
    "ax[1].set_xlabel(\"Time\")\n",
    "ax[1].set_ylabel(\"MFCC Coefficients\")\n",
    "fig.colorbar(img, ax=ax[1], format=\"%+2.f\")\n",
    "# Show plot\n",
    "plt.tight_layout()\n",
    "plt.show()"
   ]
  },
  {
   "cell_type": "markdown",
   "metadata": {
    "id": "CQhXMakYOYPi"
   },
   "source": [
    "## Preporcessing Dataset"
   ]
  },
  {
   "cell_type": "code",
   "execution_count": 18,
   "metadata": {
    "id": "n6Ic5gxFPbwp"
   },
   "outputs": [
    {
     "data": {
      "text/html": [
       "<div>\n",
       "<style scoped>\n",
       "    .dataframe tbody tr th:only-of-type {\n",
       "        vertical-align: middle;\n",
       "    }\n",
       "\n",
       "    .dataframe tbody tr th {\n",
       "        vertical-align: top;\n",
       "    }\n",
       "\n",
       "    .dataframe thead th {\n",
       "        text-align: right;\n",
       "    }\n",
       "</style>\n",
       "<table border=\"1\" class=\"dataframe\">\n",
       "  <thead>\n",
       "    <tr style=\"text-align: right;\">\n",
       "      <th></th>\n",
       "      <th>file_path</th>\n",
       "      <th>category</th>\n",
       "      <th>emotion</th>\n",
       "      <th>feature_0</th>\n",
       "      <th>feature_1</th>\n",
       "      <th>feature_2</th>\n",
       "      <th>feature_3</th>\n",
       "      <th>feature_4</th>\n",
       "      <th>feature_5</th>\n",
       "      <th>feature_6</th>\n",
       "      <th>...</th>\n",
       "      <th>feature_170</th>\n",
       "      <th>feature_171</th>\n",
       "      <th>feature_172</th>\n",
       "      <th>feature_173</th>\n",
       "      <th>feature_174</th>\n",
       "      <th>feature_175</th>\n",
       "      <th>feature_176</th>\n",
       "      <th>feature_177</th>\n",
       "      <th>feature_178</th>\n",
       "      <th>feature_179</th>\n",
       "    </tr>\n",
       "  </thead>\n",
       "  <tbody>\n",
       "    <tr>\n",
       "      <th>0</th>\n",
       "      <td>C:\\Users\\EL-Dorado\\Downloads\\@Codexecution\\RAV...</td>\n",
       "      <td>Audio_Song_Actors_01-24</td>\n",
       "      <td>neutral</td>\n",
       "      <td>-625.106262</td>\n",
       "      <td>86.008797</td>\n",
       "      <td>-14.908678</td>\n",
       "      <td>11.612943</td>\n",
       "      <td>0.951541</td>\n",
       "      <td>9.499438</td>\n",
       "      <td>-8.360124</td>\n",
       "      <td>...</td>\n",
       "      <td>2.505913e-07</td>\n",
       "      <td>1.389767e-07</td>\n",
       "      <td>6.259342e-08</td>\n",
       "      <td>5.209959e-08</td>\n",
       "      <td>4.448409e-08</td>\n",
       "      <td>3.402783e-08</td>\n",
       "      <td>2.266297e-08</td>\n",
       "      <td>1.658761e-08</td>\n",
       "      <td>6.281665e-09</td>\n",
       "      <td>5.645767e-09</td>\n",
       "    </tr>\n",
       "    <tr>\n",
       "      <th>1</th>\n",
       "      <td>C:\\Users\\EL-Dorado\\Downloads\\@Codexecution\\RAV...</td>\n",
       "      <td>Audio_Song_Actors_01-24</td>\n",
       "      <td>neutral</td>\n",
       "      <td>-599.416138</td>\n",
       "      <td>84.052719</td>\n",
       "      <td>-15.714042</td>\n",
       "      <td>11.429276</td>\n",
       "      <td>0.850099</td>\n",
       "      <td>9.990978</td>\n",
       "      <td>-9.621907</td>\n",
       "      <td>...</td>\n",
       "      <td>2.661246e-07</td>\n",
       "      <td>1.324255e-07</td>\n",
       "      <td>8.535215e-08</td>\n",
       "      <td>4.553799e-08</td>\n",
       "      <td>3.747565e-08</td>\n",
       "      <td>3.051230e-08</td>\n",
       "      <td>2.682382e-08</td>\n",
       "      <td>1.575488e-08</td>\n",
       "      <td>1.110359e-08</td>\n",
       "      <td>1.266679e-08</td>\n",
       "    </tr>\n",
       "    <tr>\n",
       "      <th>2</th>\n",
       "      <td>C:\\Users\\EL-Dorado\\Downloads\\@Codexecution\\RAV...</td>\n",
       "      <td>Audio_Song_Actors_01-24</td>\n",
       "      <td>neutral</td>\n",
       "      <td>-612.903076</td>\n",
       "      <td>82.196556</td>\n",
       "      <td>-13.120657</td>\n",
       "      <td>14.789132</td>\n",
       "      <td>3.518427</td>\n",
       "      <td>7.586631</td>\n",
       "      <td>-6.735970</td>\n",
       "      <td>...</td>\n",
       "      <td>5.152927e-07</td>\n",
       "      <td>3.613940e-07</td>\n",
       "      <td>2.791932e-07</td>\n",
       "      <td>1.897854e-07</td>\n",
       "      <td>1.196744e-07</td>\n",
       "      <td>6.863468e-08</td>\n",
       "      <td>6.189727e-08</td>\n",
       "      <td>3.520140e-08</td>\n",
       "      <td>1.177894e-08</td>\n",
       "      <td>6.167234e-09</td>\n",
       "    </tr>\n",
       "    <tr>\n",
       "      <th>3</th>\n",
       "      <td>C:\\Users\\EL-Dorado\\Downloads\\@Codexecution\\RAV...</td>\n",
       "      <td>Audio_Song_Actors_01-24</td>\n",
       "      <td>neutral</td>\n",
       "      <td>-610.187866</td>\n",
       "      <td>83.249809</td>\n",
       "      <td>-15.969199</td>\n",
       "      <td>13.755888</td>\n",
       "      <td>1.984430</td>\n",
       "      <td>8.654107</td>\n",
       "      <td>-7.323662</td>\n",
       "      <td>...</td>\n",
       "      <td>1.089680e-06</td>\n",
       "      <td>5.147377e-07</td>\n",
       "      <td>2.775537e-07</td>\n",
       "      <td>1.649997e-07</td>\n",
       "      <td>1.496935e-07</td>\n",
       "      <td>1.194161e-07</td>\n",
       "      <td>7.391817e-08</td>\n",
       "      <td>5.389015e-08</td>\n",
       "      <td>3.181273e-08</td>\n",
       "      <td>8.312143e-09</td>\n",
       "    </tr>\n",
       "    <tr>\n",
       "      <th>4</th>\n",
       "      <td>C:\\Users\\EL-Dorado\\Downloads\\@Codexecution\\RAV...</td>\n",
       "      <td>Audio_Song_Actors_01-24</td>\n",
       "      <td>calm</td>\n",
       "      <td>-623.877075</td>\n",
       "      <td>90.996017</td>\n",
       "      <td>-11.470400</td>\n",
       "      <td>15.081040</td>\n",
       "      <td>2.816188</td>\n",
       "      <td>12.477466</td>\n",
       "      <td>-7.909572</td>\n",
       "      <td>...</td>\n",
       "      <td>3.682214e-07</td>\n",
       "      <td>1.503961e-07</td>\n",
       "      <td>1.092785e-07</td>\n",
       "      <td>1.119673e-07</td>\n",
       "      <td>6.592948e-08</td>\n",
       "      <td>3.464470e-08</td>\n",
       "      <td>2.697515e-08</td>\n",
       "      <td>1.966369e-08</td>\n",
       "      <td>1.597177e-08</td>\n",
       "      <td>6.825751e-09</td>\n",
       "    </tr>\n",
       "  </tbody>\n",
       "</table>\n",
       "<p>5 rows × 183 columns</p>\n",
       "</div>"
      ],
      "text/plain": [
       "                                           file_path                 category  \\\n",
       "0  C:\\Users\\EL-Dorado\\Downloads\\@Codexecution\\RAV...  Audio_Song_Actors_01-24   \n",
       "1  C:\\Users\\EL-Dorado\\Downloads\\@Codexecution\\RAV...  Audio_Song_Actors_01-24   \n",
       "2  C:\\Users\\EL-Dorado\\Downloads\\@Codexecution\\RAV...  Audio_Song_Actors_01-24   \n",
       "3  C:\\Users\\EL-Dorado\\Downloads\\@Codexecution\\RAV...  Audio_Song_Actors_01-24   \n",
       "4  C:\\Users\\EL-Dorado\\Downloads\\@Codexecution\\RAV...  Audio_Song_Actors_01-24   \n",
       "\n",
       "   emotion   feature_0  feature_1  feature_2  feature_3  feature_4  feature_5  \\\n",
       "0  neutral -625.106262  86.008797 -14.908678  11.612943   0.951541   9.499438   \n",
       "1  neutral -599.416138  84.052719 -15.714042  11.429276   0.850099   9.990978   \n",
       "2  neutral -612.903076  82.196556 -13.120657  14.789132   3.518427   7.586631   \n",
       "3  neutral -610.187866  83.249809 -15.969199  13.755888   1.984430   8.654107   \n",
       "4     calm -623.877075  90.996017 -11.470400  15.081040   2.816188  12.477466   \n",
       "\n",
       "   feature_6  ...   feature_170   feature_171   feature_172   feature_173  \\\n",
       "0  -8.360124  ...  2.505913e-07  1.389767e-07  6.259342e-08  5.209959e-08   \n",
       "1  -9.621907  ...  2.661246e-07  1.324255e-07  8.535215e-08  4.553799e-08   \n",
       "2  -6.735970  ...  5.152927e-07  3.613940e-07  2.791932e-07  1.897854e-07   \n",
       "3  -7.323662  ...  1.089680e-06  5.147377e-07  2.775537e-07  1.649997e-07   \n",
       "4  -7.909572  ...  3.682214e-07  1.503961e-07  1.092785e-07  1.119673e-07   \n",
       "\n",
       "    feature_174   feature_175   feature_176   feature_177   feature_178  \\\n",
       "0  4.448409e-08  3.402783e-08  2.266297e-08  1.658761e-08  6.281665e-09   \n",
       "1  3.747565e-08  3.051230e-08  2.682382e-08  1.575488e-08  1.110359e-08   \n",
       "2  1.196744e-07  6.863468e-08  6.189727e-08  3.520140e-08  1.177894e-08   \n",
       "3  1.496935e-07  1.194161e-07  7.391817e-08  5.389015e-08  3.181273e-08   \n",
       "4  6.592948e-08  3.464470e-08  2.697515e-08  1.966369e-08  1.597177e-08   \n",
       "\n",
       "    feature_179  \n",
       "0  5.645767e-09  \n",
       "1  1.266679e-08  \n",
       "2  6.167234e-09  \n",
       "3  8.312143e-09  \n",
       "4  6.825751e-09  \n",
       "\n",
       "[5 rows x 183 columns]"
      ]
     },
     "execution_count": 18,
     "metadata": {},
     "output_type": "execute_result"
    }
   ],
   "source": [
    "df.head()"
   ]
  },
  {
   "cell_type": "code",
   "execution_count": 19,
   "metadata": {
    "id": "-Gh50e68PbrH"
   },
   "outputs": [
    {
     "name": "stdout",
     "output_type": "stream",
     "text": [
      "0         neutral\n",
      "1         neutral\n",
      "2         neutral\n",
      "3         neutral\n",
      "4            calm\n",
      "          ...    \n",
      "2447    surprised\n",
      "2448    surprised\n",
      "2449    surprised\n",
      "2450    surprised\n",
      "2451    surprised\n",
      "Name: emotion, Length: 2452, dtype: object\n"
     ]
    },
    {
     "data": {
      "text/plain": [
       "0       5\n",
       "1       5\n",
       "2       5\n",
       "3       5\n",
       "4       1\n",
       "       ..\n",
       "2447    7\n",
       "2448    7\n",
       "2449    7\n",
       "2450    7\n",
       "2451    7\n",
       "Name: emotion, Length: 2452, dtype: int64"
      ]
     },
     "execution_count": 19,
     "metadata": {},
     "output_type": "execute_result"
    }
   ],
   "source": [
    "# Encode emotions\n",
    "print(df['emotion'])\n",
    "label_encoder = LabelEncoder()\n",
    "df[\"emotion\"] = label_encoder.fit_transform(df[\"emotion\"])\n",
    "df['emotion']"
   ]
  },
  {
   "cell_type": "code",
   "execution_count": 20,
   "metadata": {
    "id": "LmgL4OxUPbUK"
   },
   "outputs": [
    {
     "data": {
      "text/plain": [
       "emotion\n",
       "1    376\n",
       "4    376\n",
       "6    376\n",
       "0    376\n",
       "3    376\n",
       "2    192\n",
       "7    192\n",
       "5    188\n",
       "Name: count, dtype: int64"
      ]
     },
     "execution_count": 20,
     "metadata": {},
     "output_type": "execute_result"
    }
   ],
   "source": [
    "df['emotion'].value_counts()"
   ]
  },
  {
   "cell_type": "code",
   "execution_count": 21,
   "metadata": {
    "id": "JRyglgjTPbOm"
   },
   "outputs": [],
   "source": [
    "# Excluding non-feature columns\n",
    "exclude_columns = [\"emotion\", \"file_path\", \"category\"]\n",
    "\n",
    "# Split data into features and labels\n",
    "X = df.drop(columns=exclude_columns, axis=1)\n",
    "y = df[\"emotion\"]"
   ]
  },
  {
   "cell_type": "code",
   "execution_count": 22,
   "metadata": {
    "id": "Q135BrIFPbI-"
   },
   "outputs": [],
   "source": [
    "# Standardize features\n",
    "scaler = StandardScaler()\n",
    "X = scaler.fit_transform(X)"
   ]
  },
  {
   "cell_type": "code",
   "execution_count": 23,
   "metadata": {
    "id": "xqjz8JB6Qzv0"
   },
   "outputs": [
    {
     "data": {
      "text/plain": [
       "((1716, 180), (736, 180), (1716,), (736,))"
      ]
     },
     "execution_count": 23,
     "metadata": {},
     "output_type": "execute_result"
    }
   ],
   "source": [
    "# Split into training and testing\n",
    "X_train, X_test, y_train, y_test = train_test_split(X, y, test_size=0.3, random_state=28)\n",
    "X_train.shape, X_test.shape, y_train.shape, y_test.shape"
   ]
  },
  {
   "cell_type": "code",
   "execution_count": 24,
   "metadata": {
    "id": "FZT5j13QPbD8"
   },
   "outputs": [
    {
     "name": "stdout",
     "output_type": "stream",
     "text": [
      "Data preprocessing completed! Datasets saved in dataset_features/\n"
     ]
    }
   ],
   "source": [
    "np.save(os.path.join(output_dir, \"X_train.npy\"), X_train)\n",
    "np.save(os.path.join(output_dir, \"X_test.npy\"), X_test)\n",
    "np.save(os.path.join(output_dir, \"y_train.npy\"), y_train)\n",
    "np.save(os.path.join(output_dir, \"y_test.npy\"), y_test)\n",
    "\n",
    "print(\"Data preprocessing completed! Datasets saved in dataset_features/\")"
   ]
  },
  {
   "cell_type": "markdown",
   "metadata": {
    "id": "19-AQWjvQ9Ow"
   },
   "source": [
    "## Model Training"
   ]
  },
  {
   "cell_type": "code",
   "execution_count": 27,
   "metadata": {
    "id": "7tNg7wC1PbA6"
   },
   "outputs": [],
   "source": [
    "# Load dataset\n",
    "dataset_dir = r\"C:\\Users\\EL-Dorado\\Downloads\\Compressed\\SpeechEmotionDetection\\dataset_features\"\n",
    "X_train = np.load(os.path.join(dataset_dir, \"X_train.npy\"))\n",
    "X_test = np.load(os.path.join(dataset_dir, \"X_test.npy\"))\n",
    "y_train = np.load(os.path.join(dataset_dir, \"y_train.npy\"))\n",
    "y_test = np.load(os.path.join(dataset_dir, \"y_test.npy\"))"
   ]
  },
  {
   "cell_type": "code",
   "execution_count": 28,
   "metadata": {
    "id": "bRIbLMC2RDoV"
   },
   "outputs": [
    {
     "name": "stderr",
     "output_type": "stream",
     "text": [
      "c:\\Users\\EL-Dorado\\Downloads\\Compressed\\SpeechEmotionDetection\\.venv\\lib\\site-packages\\keras\\src\\layers\\convolutional\\base_conv.py:107: UserWarning: Do not pass an `input_shape`/`input_dim` argument to a layer. When using Sequential models, prefer using an `Input(shape)` object as the first layer in the model instead.\n",
      "  super().__init__(activity_regularizer=activity_regularizer, **kwargs)\n"
     ]
    }
   ],
   "source": [
    "# Define CNN Model\n",
    "model = Sequential([\n",
    "    Conv1D(64, kernel_size=3, activation=\"relu\", input_shape=(X_train.shape[1], 1)),\n",
    "    MaxPooling1D(2),\n",
    "    Conv1D(128, kernel_size=3, activation=\"relu\"),\n",
    "    MaxPooling1D(2),\n",
    "    Flatten(),\n",
    "    Dense(256, activation=\"relu\"),\n",
    "    Dropout(0.5),\n",
    "    Dense(len(np.unique(y_train)), activation=\"softmax\")\n",
    "])"
   ]
  },
  {
   "cell_type": "code",
   "execution_count": 29,
   "metadata": {
    "id": "6E40A36BRNbO"
   },
   "outputs": [
    {
     "data": {
      "text/html": [
       "<pre style=\"white-space:pre;overflow-x:auto;line-height:normal;font-family:Menlo,'DejaVu Sans Mono',consolas,'Courier New',monospace\"><span style=\"font-weight: bold\">Model: \"sequential\"</span>\n",
       "</pre>\n"
      ],
      "text/plain": [
       "\u001b[1mModel: \"sequential\"\u001b[0m\n"
      ]
     },
     "metadata": {},
     "output_type": "display_data"
    },
    {
     "data": {
      "text/html": [
       "<pre style=\"white-space:pre;overflow-x:auto;line-height:normal;font-family:Menlo,'DejaVu Sans Mono',consolas,'Courier New',monospace\">┏━━━━━━━━━━━━━━━━━━━━━━━━━━━━━━━━━┳━━━━━━━━━━━━━━━━━━━━━━━━┳━━━━━━━━━━━━━━━┓\n",
       "┃<span style=\"font-weight: bold\"> Layer (type)                    </span>┃<span style=\"font-weight: bold\"> Output Shape           </span>┃<span style=\"font-weight: bold\">       Param # </span>┃\n",
       "┡━━━━━━━━━━━━━━━━━━━━━━━━━━━━━━━━━╇━━━━━━━━━━━━━━━━━━━━━━━━╇━━━━━━━━━━━━━━━┩\n",
       "│ conv1d (<span style=\"color: #0087ff; text-decoration-color: #0087ff\">Conv1D</span>)                 │ (<span style=\"color: #00d7ff; text-decoration-color: #00d7ff\">None</span>, <span style=\"color: #00af00; text-decoration-color: #00af00\">178</span>, <span style=\"color: #00af00; text-decoration-color: #00af00\">64</span>)        │           <span style=\"color: #00af00; text-decoration-color: #00af00\">256</span> │\n",
       "├─────────────────────────────────┼────────────────────────┼───────────────┤\n",
       "│ max_pooling1d (<span style=\"color: #0087ff; text-decoration-color: #0087ff\">MaxPooling1D</span>)    │ (<span style=\"color: #00d7ff; text-decoration-color: #00d7ff\">None</span>, <span style=\"color: #00af00; text-decoration-color: #00af00\">89</span>, <span style=\"color: #00af00; text-decoration-color: #00af00\">64</span>)         │             <span style=\"color: #00af00; text-decoration-color: #00af00\">0</span> │\n",
       "├─────────────────────────────────┼────────────────────────┼───────────────┤\n",
       "│ conv1d_1 (<span style=\"color: #0087ff; text-decoration-color: #0087ff\">Conv1D</span>)               │ (<span style=\"color: #00d7ff; text-decoration-color: #00d7ff\">None</span>, <span style=\"color: #00af00; text-decoration-color: #00af00\">87</span>, <span style=\"color: #00af00; text-decoration-color: #00af00\">128</span>)        │        <span style=\"color: #00af00; text-decoration-color: #00af00\">24,704</span> │\n",
       "├─────────────────────────────────┼────────────────────────┼───────────────┤\n",
       "│ max_pooling1d_1 (<span style=\"color: #0087ff; text-decoration-color: #0087ff\">MaxPooling1D</span>)  │ (<span style=\"color: #00d7ff; text-decoration-color: #00d7ff\">None</span>, <span style=\"color: #00af00; text-decoration-color: #00af00\">43</span>, <span style=\"color: #00af00; text-decoration-color: #00af00\">128</span>)        │             <span style=\"color: #00af00; text-decoration-color: #00af00\">0</span> │\n",
       "├─────────────────────────────────┼────────────────────────┼───────────────┤\n",
       "│ flatten (<span style=\"color: #0087ff; text-decoration-color: #0087ff\">Flatten</span>)               │ (<span style=\"color: #00d7ff; text-decoration-color: #00d7ff\">None</span>, <span style=\"color: #00af00; text-decoration-color: #00af00\">5504</span>)           │             <span style=\"color: #00af00; text-decoration-color: #00af00\">0</span> │\n",
       "├─────────────────────────────────┼────────────────────────┼───────────────┤\n",
       "│ dense (<span style=\"color: #0087ff; text-decoration-color: #0087ff\">Dense</span>)                   │ (<span style=\"color: #00d7ff; text-decoration-color: #00d7ff\">None</span>, <span style=\"color: #00af00; text-decoration-color: #00af00\">256</span>)            │     <span style=\"color: #00af00; text-decoration-color: #00af00\">1,409,280</span> │\n",
       "├─────────────────────────────────┼────────────────────────┼───────────────┤\n",
       "│ dropout (<span style=\"color: #0087ff; text-decoration-color: #0087ff\">Dropout</span>)               │ (<span style=\"color: #00d7ff; text-decoration-color: #00d7ff\">None</span>, <span style=\"color: #00af00; text-decoration-color: #00af00\">256</span>)            │             <span style=\"color: #00af00; text-decoration-color: #00af00\">0</span> │\n",
       "├─────────────────────────────────┼────────────────────────┼───────────────┤\n",
       "│ dense_1 (<span style=\"color: #0087ff; text-decoration-color: #0087ff\">Dense</span>)                 │ (<span style=\"color: #00d7ff; text-decoration-color: #00d7ff\">None</span>, <span style=\"color: #00af00; text-decoration-color: #00af00\">8</span>)              │         <span style=\"color: #00af00; text-decoration-color: #00af00\">2,056</span> │\n",
       "└─────────────────────────────────┴────────────────────────┴───────────────┘\n",
       "</pre>\n"
      ],
      "text/plain": [
       "┏━━━━━━━━━━━━━━━━━━━━━━━━━━━━━━━━━┳━━━━━━━━━━━━━━━━━━━━━━━━┳━━━━━━━━━━━━━━━┓\n",
       "┃\u001b[1m \u001b[0m\u001b[1mLayer (type)                   \u001b[0m\u001b[1m \u001b[0m┃\u001b[1m \u001b[0m\u001b[1mOutput Shape          \u001b[0m\u001b[1m \u001b[0m┃\u001b[1m \u001b[0m\u001b[1m      Param #\u001b[0m\u001b[1m \u001b[0m┃\n",
       "┡━━━━━━━━━━━━━━━━━━━━━━━━━━━━━━━━━╇━━━━━━━━━━━━━━━━━━━━━━━━╇━━━━━━━━━━━━━━━┩\n",
       "│ conv1d (\u001b[38;5;33mConv1D\u001b[0m)                 │ (\u001b[38;5;45mNone\u001b[0m, \u001b[38;5;34m178\u001b[0m, \u001b[38;5;34m64\u001b[0m)        │           \u001b[38;5;34m256\u001b[0m │\n",
       "├─────────────────────────────────┼────────────────────────┼───────────────┤\n",
       "│ max_pooling1d (\u001b[38;5;33mMaxPooling1D\u001b[0m)    │ (\u001b[38;5;45mNone\u001b[0m, \u001b[38;5;34m89\u001b[0m, \u001b[38;5;34m64\u001b[0m)         │             \u001b[38;5;34m0\u001b[0m │\n",
       "├─────────────────────────────────┼────────────────────────┼───────────────┤\n",
       "│ conv1d_1 (\u001b[38;5;33mConv1D\u001b[0m)               │ (\u001b[38;5;45mNone\u001b[0m, \u001b[38;5;34m87\u001b[0m, \u001b[38;5;34m128\u001b[0m)        │        \u001b[38;5;34m24,704\u001b[0m │\n",
       "├─────────────────────────────────┼────────────────────────┼───────────────┤\n",
       "│ max_pooling1d_1 (\u001b[38;5;33mMaxPooling1D\u001b[0m)  │ (\u001b[38;5;45mNone\u001b[0m, \u001b[38;5;34m43\u001b[0m, \u001b[38;5;34m128\u001b[0m)        │             \u001b[38;5;34m0\u001b[0m │\n",
       "├─────────────────────────────────┼────────────────────────┼───────────────┤\n",
       "│ flatten (\u001b[38;5;33mFlatten\u001b[0m)               │ (\u001b[38;5;45mNone\u001b[0m, \u001b[38;5;34m5504\u001b[0m)           │             \u001b[38;5;34m0\u001b[0m │\n",
       "├─────────────────────────────────┼────────────────────────┼───────────────┤\n",
       "│ dense (\u001b[38;5;33mDense\u001b[0m)                   │ (\u001b[38;5;45mNone\u001b[0m, \u001b[38;5;34m256\u001b[0m)            │     \u001b[38;5;34m1,409,280\u001b[0m │\n",
       "├─────────────────────────────────┼────────────────────────┼───────────────┤\n",
       "│ dropout (\u001b[38;5;33mDropout\u001b[0m)               │ (\u001b[38;5;45mNone\u001b[0m, \u001b[38;5;34m256\u001b[0m)            │             \u001b[38;5;34m0\u001b[0m │\n",
       "├─────────────────────────────────┼────────────────────────┼───────────────┤\n",
       "│ dense_1 (\u001b[38;5;33mDense\u001b[0m)                 │ (\u001b[38;5;45mNone\u001b[0m, \u001b[38;5;34m8\u001b[0m)              │         \u001b[38;5;34m2,056\u001b[0m │\n",
       "└─────────────────────────────────┴────────────────────────┴───────────────┘\n"
      ]
     },
     "metadata": {},
     "output_type": "display_data"
    },
    {
     "data": {
      "text/html": [
       "<pre style=\"white-space:pre;overflow-x:auto;line-height:normal;font-family:Menlo,'DejaVu Sans Mono',consolas,'Courier New',monospace\"><span style=\"font-weight: bold\"> Total params: </span><span style=\"color: #00af00; text-decoration-color: #00af00\">1,436,296</span> (5.48 MB)\n",
       "</pre>\n"
      ],
      "text/plain": [
       "\u001b[1m Total params: \u001b[0m\u001b[38;5;34m1,436,296\u001b[0m (5.48 MB)\n"
      ]
     },
     "metadata": {},
     "output_type": "display_data"
    },
    {
     "data": {
      "text/html": [
       "<pre style=\"white-space:pre;overflow-x:auto;line-height:normal;font-family:Menlo,'DejaVu Sans Mono',consolas,'Courier New',monospace\"><span style=\"font-weight: bold\"> Trainable params: </span><span style=\"color: #00af00; text-decoration-color: #00af00\">1,436,296</span> (5.48 MB)\n",
       "</pre>\n"
      ],
      "text/plain": [
       "\u001b[1m Trainable params: \u001b[0m\u001b[38;5;34m1,436,296\u001b[0m (5.48 MB)\n"
      ]
     },
     "metadata": {},
     "output_type": "display_data"
    },
    {
     "data": {
      "text/html": [
       "<pre style=\"white-space:pre;overflow-x:auto;line-height:normal;font-family:Menlo,'DejaVu Sans Mono',consolas,'Courier New',monospace\"><span style=\"font-weight: bold\"> Non-trainable params: </span><span style=\"color: #00af00; text-decoration-color: #00af00\">0</span> (0.00 B)\n",
       "</pre>\n"
      ],
      "text/plain": [
       "\u001b[1m Non-trainable params: \u001b[0m\u001b[38;5;34m0\u001b[0m (0.00 B)\n"
      ]
     },
     "metadata": {},
     "output_type": "display_data"
    }
   ],
   "source": [
    "# Compile Model\n",
    "model.compile(loss=\"sparse_categorical_crossentropy\", optimizer=\"adam\", metrics=[\"accuracy\"])\n",
    "model.summary()"
   ]
  },
  {
   "cell_type": "code",
   "execution_count": 31,
   "metadata": {
    "id": "AT9y4tVwRmQI"
   },
   "outputs": [
    {
     "name": "stdout",
     "output_type": "stream",
     "text": [
      "Epoch 1/30\n",
      "\u001b[1m54/54\u001b[0m \u001b[32m━━━━━━━━━━━━━━━━━━━━\u001b[0m\u001b[37m\u001b[0m \u001b[1m1s\u001b[0m 19ms/step - accuracy: 0.9682 - loss: 0.1025 - val_accuracy: 0.7228 - val_loss: 1.0159\n",
      "Epoch 2/30\n",
      "\u001b[1m54/54\u001b[0m \u001b[32m━━━━━━━━━━━━━━━━━━━━\u001b[0m\u001b[37m\u001b[0m \u001b[1m1s\u001b[0m 17ms/step - accuracy: 0.9841 - loss: 0.0828 - val_accuracy: 0.7310 - val_loss: 0.9704\n",
      "Epoch 3/30\n",
      "\u001b[1m54/54\u001b[0m \u001b[32m━━━━━━━━━━━━━━━━━━━━\u001b[0m\u001b[37m\u001b[0m \u001b[1m1s\u001b[0m 19ms/step - accuracy: 0.9679 - loss: 0.0819 - val_accuracy: 0.7147 - val_loss: 0.9956\n",
      "Epoch 4/30\n",
      "\u001b[1m54/54\u001b[0m \u001b[32m━━━━━━━━━━━━━━━━━━━━\u001b[0m\u001b[37m\u001b[0m \u001b[1m1s\u001b[0m 17ms/step - accuracy: 0.9887 - loss: 0.0573 - val_accuracy: 0.7269 - val_loss: 1.0523\n",
      "Epoch 5/30\n",
      "\u001b[1m54/54\u001b[0m \u001b[32m━━━━━━━━━━━━━━━━━━━━\u001b[0m\u001b[37m\u001b[0m \u001b[1m1s\u001b[0m 20ms/step - accuracy: 0.9721 - loss: 0.0696 - val_accuracy: 0.7120 - val_loss: 1.0236\n",
      "Epoch 6/30\n",
      "\u001b[1m54/54\u001b[0m \u001b[32m━━━━━━━━━━━━━━━━━━━━\u001b[0m\u001b[37m\u001b[0m \u001b[1m1s\u001b[0m 17ms/step - accuracy: 0.9809 - loss: 0.0667 - val_accuracy: 0.7378 - val_loss: 1.0250\n",
      "Epoch 7/30\n",
      "\u001b[1m54/54\u001b[0m \u001b[32m━━━━━━━━━━━━━━━━━━━━\u001b[0m\u001b[37m\u001b[0m \u001b[1m1s\u001b[0m 17ms/step - accuracy: 0.9726 - loss: 0.0828 - val_accuracy: 0.7459 - val_loss: 1.0629\n",
      "Epoch 8/30\n",
      "\u001b[1m54/54\u001b[0m \u001b[32m━━━━━━━━━━━━━━━━━━━━\u001b[0m\u001b[37m\u001b[0m \u001b[1m1s\u001b[0m 15ms/step - accuracy: 0.9824 - loss: 0.0647 - val_accuracy: 0.7255 - val_loss: 1.1217\n",
      "Epoch 9/30\n",
      "\u001b[1m54/54\u001b[0m \u001b[32m━━━━━━━━━━━━━━━━━━━━\u001b[0m\u001b[37m\u001b[0m \u001b[1m1s\u001b[0m 17ms/step - accuracy: 0.9838 - loss: 0.0605 - val_accuracy: 0.7391 - val_loss: 1.1174\n",
      "Epoch 10/30\n",
      "\u001b[1m54/54\u001b[0m \u001b[32m━━━━━━━━━━━━━━━━━━━━\u001b[0m\u001b[37m\u001b[0m \u001b[1m1s\u001b[0m 19ms/step - accuracy: 0.9845 - loss: 0.0506 - val_accuracy: 0.7446 - val_loss: 1.1180\n",
      "Epoch 11/30\n",
      "\u001b[1m54/54\u001b[0m \u001b[32m━━━━━━━━━━━━━━━━━━━━\u001b[0m\u001b[37m\u001b[0m \u001b[1m1s\u001b[0m 18ms/step - accuracy: 0.9864 - loss: 0.0399 - val_accuracy: 0.7486 - val_loss: 1.1157\n",
      "Epoch 12/30\n",
      "\u001b[1m54/54\u001b[0m \u001b[32m━━━━━━━━━━━━━━━━━━━━\u001b[0m\u001b[37m\u001b[0m \u001b[1m1s\u001b[0m 17ms/step - accuracy: 0.9893 - loss: 0.0444 - val_accuracy: 0.7351 - val_loss: 1.1403\n",
      "Epoch 13/30\n",
      "\u001b[1m54/54\u001b[0m \u001b[32m━━━━━━━━━━━━━━━━━━━━\u001b[0m\u001b[37m\u001b[0m \u001b[1m1s\u001b[0m 17ms/step - accuracy: 0.9918 - loss: 0.0388 - val_accuracy: 0.7269 - val_loss: 1.1891\n",
      "Epoch 14/30\n",
      "\u001b[1m54/54\u001b[0m \u001b[32m━━━━━━━━━━━━━━━━━━━━\u001b[0m\u001b[37m\u001b[0m \u001b[1m1s\u001b[0m 16ms/step - accuracy: 0.9834 - loss: 0.0594 - val_accuracy: 0.7405 - val_loss: 1.1907\n",
      "Epoch 15/30\n",
      "\u001b[1m54/54\u001b[0m \u001b[32m━━━━━━━━━━━━━━━━━━━━\u001b[0m\u001b[37m\u001b[0m \u001b[1m1s\u001b[0m 17ms/step - accuracy: 0.9945 - loss: 0.0373 - val_accuracy: 0.7079 - val_loss: 1.4251\n",
      "Epoch 16/30\n",
      "\u001b[1m54/54\u001b[0m \u001b[32m━━━━━━━━━━━━━━━━━━━━\u001b[0m\u001b[37m\u001b[0m \u001b[1m1s\u001b[0m 17ms/step - accuracy: 0.9824 - loss: 0.0637 - val_accuracy: 0.7310 - val_loss: 1.2988\n",
      "Epoch 17/30\n",
      "\u001b[1m54/54\u001b[0m \u001b[32m━━━━━━━━━━━━━━━━━━━━\u001b[0m\u001b[37m\u001b[0m \u001b[1m1s\u001b[0m 16ms/step - accuracy: 0.9834 - loss: 0.0544 - val_accuracy: 0.7418 - val_loss: 1.2126\n",
      "Epoch 18/30\n",
      "\u001b[1m54/54\u001b[0m \u001b[32m━━━━━━━━━━━━━━━━━━━━\u001b[0m\u001b[37m\u001b[0m \u001b[1m1s\u001b[0m 17ms/step - accuracy: 0.9917 - loss: 0.0362 - val_accuracy: 0.7188 - val_loss: 1.3236\n",
      "Epoch 19/30\n",
      "\u001b[1m54/54\u001b[0m \u001b[32m━━━━━━━━━━━━━━━━━━━━\u001b[0m\u001b[37m\u001b[0m \u001b[1m1s\u001b[0m 18ms/step - accuracy: 0.9911 - loss: 0.0328 - val_accuracy: 0.7215 - val_loss: 1.3797\n",
      "Epoch 20/30\n",
      "\u001b[1m54/54\u001b[0m \u001b[32m━━━━━━━━━━━━━━━━━━━━\u001b[0m\u001b[37m\u001b[0m \u001b[1m1s\u001b[0m 17ms/step - accuracy: 0.9883 - loss: 0.0346 - val_accuracy: 0.7323 - val_loss: 1.4602\n",
      "Epoch 21/30\n",
      "\u001b[1m54/54\u001b[0m \u001b[32m━━━━━━━━━━━━━━━━━━━━\u001b[0m\u001b[37m\u001b[0m \u001b[1m1s\u001b[0m 16ms/step - accuracy: 0.9831 - loss: 0.0663 - val_accuracy: 0.7486 - val_loss: 1.3128\n",
      "Epoch 22/30\n",
      "\u001b[1m54/54\u001b[0m \u001b[32m━━━━━━━━━━━━━━━━━━━━\u001b[0m\u001b[37m\u001b[0m \u001b[1m1s\u001b[0m 16ms/step - accuracy: 0.9792 - loss: 0.0578 - val_accuracy: 0.7500 - val_loss: 1.1521\n",
      "Epoch 23/30\n",
      "\u001b[1m54/54\u001b[0m \u001b[32m━━━━━━━━━━━━━━━━━━━━\u001b[0m\u001b[37m\u001b[0m \u001b[1m1s\u001b[0m 17ms/step - accuracy: 0.9919 - loss: 0.0341 - val_accuracy: 0.7405 - val_loss: 1.2601\n",
      "Epoch 24/30\n",
      "\u001b[1m54/54\u001b[0m \u001b[32m━━━━━━━━━━━━━━━━━━━━\u001b[0m\u001b[37m\u001b[0m \u001b[1m1s\u001b[0m 17ms/step - accuracy: 0.9830 - loss: 0.0463 - val_accuracy: 0.7527 - val_loss: 1.2113\n",
      "Epoch 25/30\n",
      "\u001b[1m54/54\u001b[0m \u001b[32m━━━━━━━━━━━━━━━━━━━━\u001b[0m\u001b[37m\u001b[0m \u001b[1m1s\u001b[0m 16ms/step - accuracy: 0.9905 - loss: 0.0329 - val_accuracy: 0.7486 - val_loss: 1.2849\n",
      "Epoch 26/30\n",
      "\u001b[1m54/54\u001b[0m \u001b[32m━━━━━━━━━━━━━━━━━━━━\u001b[0m\u001b[37m\u001b[0m \u001b[1m1s\u001b[0m 17ms/step - accuracy: 0.9906 - loss: 0.0342 - val_accuracy: 0.7351 - val_loss: 1.2711\n",
      "Epoch 27/30\n",
      "\u001b[1m54/54\u001b[0m \u001b[32m━━━━━━━━━━━━━━━━━━━━\u001b[0m\u001b[37m\u001b[0m \u001b[1m1s\u001b[0m 16ms/step - accuracy: 0.9854 - loss: 0.0367 - val_accuracy: 0.7378 - val_loss: 1.2749\n",
      "Epoch 28/30\n",
      "\u001b[1m54/54\u001b[0m \u001b[32m━━━━━━━━━━━━━━━━━━━━\u001b[0m\u001b[37m\u001b[0m \u001b[1m1s\u001b[0m 16ms/step - accuracy: 0.9921 - loss: 0.0211 - val_accuracy: 0.7609 - val_loss: 1.1729\n",
      "Epoch 29/30\n",
      "\u001b[1m54/54\u001b[0m \u001b[32m━━━━━━━━━━━━━━━━━━━━\u001b[0m\u001b[37m\u001b[0m \u001b[1m1s\u001b[0m 17ms/step - accuracy: 0.9922 - loss: 0.0193 - val_accuracy: 0.7459 - val_loss: 1.2743\n",
      "Epoch 30/30\n",
      "\u001b[1m54/54\u001b[0m \u001b[32m━━━━━━━━━━━━━━━━━━━━\u001b[0m\u001b[37m\u001b[0m \u001b[1m1s\u001b[0m 17ms/step - accuracy: 0.9905 - loss: 0.0292 - val_accuracy: 0.7391 - val_loss: 1.3433\n"
     ]
    }
   ],
   "source": [
    "# Train Model\n",
    "history = model.fit(X_train, y_train, epochs=30, batch_size=32, validation_data=(X_test, y_test))"
   ]
  },
  {
   "cell_type": "code",
   "execution_count": 32,
   "metadata": {
    "id": "r4bA6RCdRqsm"
   },
   "outputs": [
    {
     "name": "stderr",
     "output_type": "stream",
     "text": [
      "WARNING:absl:You are saving your model as an HDF5 file via `model.save()` or `keras.saving.save_model(model)`. This file format is considered legacy. We recommend using instead the native Keras format, e.g. `model.save('my_model.keras')` or `keras.saving.save_model(model, 'my_model.keras')`. \n"
     ]
    },
    {
     "name": "stdout",
     "output_type": "stream",
     "text": [
      "Model trained and saved!\n"
     ]
    }
   ],
   "source": [
    "# Save Model\n",
    "model.save(\"speech_emotion_model.h5\")\n",
    "print(\"Model trained and saved!\")"
   ]
  },
  {
   "cell_type": "markdown",
   "metadata": {
    "id": "oFo6ARu7Rycq"
   },
   "source": [
    "## Model Evaluation"
   ]
  },
  {
   "cell_type": "code",
   "execution_count": 33,
   "metadata": {
    "id": "gWv99Fe5Rqiv"
   },
   "outputs": [],
   "source": [
    "# Reshape input\n",
    "X_test = np.expand_dims(X_test, axis=2)"
   ]
  },
  {
   "cell_type": "code",
   "execution_count": 34,
   "metadata": {
    "id": "PMSaz8voRqZM"
   },
   "outputs": [
    {
     "name": "stderr",
     "output_type": "stream",
     "text": [
      "WARNING:absl:Compiled the loaded model, but the compiled metrics have yet to be built. `model.compile_metrics` will be empty until you train or evaluate the model.\n"
     ]
    }
   ],
   "source": [
    "# Load Saved model\n",
    "model = tf_models.load_model(\"speech_emotion_model.h5\")"
   ]
  },
  {
   "cell_type": "code",
   "execution_count": 35,
   "metadata": {
    "id": "p1Z39bUNRqRP"
   },
   "outputs": [
    {
     "name": "stdout",
     "output_type": "stream",
     "text": [
      "\u001b[1m23/23\u001b[0m \u001b[32m━━━━━━━━━━━━━━━━━━━━\u001b[0m\u001b[37m\u001b[0m \u001b[1m0s\u001b[0m 4ms/step\n"
     ]
    }
   ],
   "source": [
    "# Predict Output\n",
    "y_pred = np.argmax(model.predict(X_test), axis=1)\n"
   ]
  },
  {
   "cell_type": "code",
   "execution_count": 36,
   "metadata": {
    "id": "YlY2_jd-RqIU"
   },
   "outputs": [
    {
     "name": "stdout",
     "output_type": "stream",
     "text": [
      "              precision    recall  f1-score   support\n",
      "\n",
      "           0       0.80      0.80      0.80       115\n",
      "           1       0.78      0.85      0.82       107\n",
      "           2       0.70      0.79      0.74        58\n",
      "           3       0.66      0.67      0.66        99\n",
      "           4       0.77      0.77      0.77       124\n",
      "           5       0.65      0.80      0.72        69\n",
      "           6       0.75      0.61      0.67       109\n",
      "           7       0.76      0.58      0.66        55\n",
      "\n",
      "    accuracy                           0.74       736\n",
      "   macro avg       0.73      0.73      0.73       736\n",
      "weighted avg       0.74      0.74      0.74       736\n",
      "\n"
     ]
    }
   ],
   "source": [
    "# Evaluate Print\n",
    "print(classification_report(y_test, y_pred))\n"
   ]
  },
  {
   "cell_type": "code",
   "execution_count": 37,
   "metadata": {
    "id": "dxpTSShCTeF5"
   },
   "outputs": [
    {
     "data": {
      "image/png": "[encoded data removed]",
      "text/plain": [
       "<Figure size 1000x800 with 2 Axes>"
      ]
     },
     "metadata": {},
     "output_type": "display_data"
    }
   ],
   "source": [
    "cm = confusion_matrix(y_test, y_pred)\n",
    "\n",
    "plt.figure(figsize=(10, 8))\n",
    "sns.heatmap(cm, annot=True, fmt=\"d\", cmap=\"Blues\",\n",
    "            xticklabels=label_encoder.classes_,\n",
    "            yticklabels=label_encoder.classes_)\n",
    "plt.xlabel(\"Predicted Labels\")\n",
    "plt.ylabel(\"True Labels\")\n",
    "plt.title(\"Confusion Matrix\")\n",
    "plt.show()"
   ]
  },
  {
   "cell_type": "code",
   "execution_count": null,
   "metadata": {
    "id": "CA9dYAMTTWiv"
   },
   "outputs": [],
   "source": []
  },
  {
   "cell_type": "code",
   "execution_count": null,
   "metadata": {},
   "outputs": [],
   "source": []
  }
 ],
 "metadata": {
  "accelerator": "GPU",
  "colab": {
   "gpuType": "T4",
   "provenance": []
  },
  "kernelspec": {
   "display_name": "Python 3 (ipykernel)",
   "language": "python",
   "name": "python3"
  },
  "language_info": {
   "codemirror_mode": {
    "name": "ipython",
    "version": 3
   },
   "file_extension": ".py",
   "mimetype": "text/x-python",
   "name": "python",
   "nbconvert_exporter": "python",
   "pygments_lexer": "ipython3",
   "version": "3.12.7"
  }
 },
 "nbformat": 4,
 "nbformat_minor": 4
}
